{
 "cells": [
  {
   "cell_type": "markdown",
   "metadata": {},
   "source": [
    "# [IAPR][iapr]: Lab 1 ‒  Image segmentation\n",
    "\n",
    "\n",
    "**Group ID:** xx\n",
    "\n",
    "**Author 1 (sciper):** Louis Le Guillouzic (xxxxx)  \n",
    "**Author 2 (sciper):** Hugo Masson (xxxxx)   \n",
    "**Author 3 (sciper):** Zhujing Zhang (xxxxx)   \n",
    "\n",
    "**Release date:** 8.03.2023  \n",
    "**Due date:** 24.03.2022 (11:59 pm)\n",
    "\n",
    "\n",
    "## Important notes\n",
    "\n",
    "The lab assignments are designed to teach practical implementation of the topics presented during class well as\n",
    "preparation for the final project, which is a practical project which ties together the topics of the course.\n",
    "\n",
    "As such, in the lab assignments/final project, unless otherwise specified, you may, if you choose, use external\n",
    "functions from image processing/ML libraries like opencv and sklearn as long as there is sufficient explanation\n",
    "in the lab report. For example, you do not need to implement your own edge detector, etc.\n",
    "\n",
    "**! Before handling back the notebook <font color='red'> rerun </font>the notebook from scratch !**\n",
    "`Kernel` > `Restart & Run All`\n",
    "\n",
    "We will not rerun the notebook for you.\n",
    "\n",
    "[iapr]: https://github.com/LTS5/iapr"
   ]
  },
  {
   "cell_type": "markdown",
   "metadata": {},
   "source": [
    "---\n",
    "## 0. Extract relevant data\n",
    "We first need to extract the `lab-01-data.tar.gz` archive.\n",
    "To this end, we use the [tarfile] module from the Python standard library.\n",
    "\n",
    "[tarfile]: https://docs.python.org/3.6/library/tarfile.html"
   ]
  },
  {
   "cell_type": "code",
   "execution_count": null,
   "metadata": {},
   "outputs": [],
   "source": [
    "import tarfile\n",
    "import os\n",
    "\n",
    "data_base_path = os.path.join(os.pardir, 'data')\n",
    "print(data_base_path)\n",
    "data_folder = 'lab-01-data'\n",
    "tar_path = os.path.join(data_base_path, data_folder + '.tar.gz')\n",
    "\n",
    "if not os.path.exists(tar_path):\n",
    "    raise Exception('Path to is not valid {}'.format(tar_path))\n",
    "    \n",
    "with tarfile.open(tar_path, mode='r:gz') as tar:\n",
    "    tar.extractall(path=data_base_path)"
   ]
  },
  {
   "cell_type": "markdown",
   "metadata": {},
   "source": [
    "---\n",
    "## Part 1: Segmentation\n",
    "\n",
    "\n",
    "### 1.0 Intro\n",
    "\n",
    "In this exercise, you will be given two images. \n",
    "\n",
    "* `mucinous_adeno.jpg`: The image depicts a tissue sample from mucinous adenocarcinoma in colorectal cancer. The data is taken from the Cancer Genome Atlas (TCGA) which is an open-source database of different cancer types. Here you can see a tissue taken from a patient and stained using hematoxylin (purple) and eosin (pink) staining. The hematoxylin stains cell nuclei with a purplish blue, and the eosin stains the extracellular matrix and cytoplasm in pink.\n",
    "\n",
    "* `mucinous_adeno_gt.jpg`: The second image is a coarse annotation of what is regarded as the so-called mucinous area. The mucinous area can be identified as a gray area tainted with purple. The presence of a large amount of mucin is a sign of a defect of normal epithelial cells that start to produce an unreasonable amount of mucin.\n",
    "\n",
    "\n",
    "### 1.1 Tasks\n",
    "\n",
    "You will be asked to extract the mucinous area using various approaches:\n",
    "\n",
    "- [ ] Thresholding\n",
    "- [ ] Morphology\n",
    "- [ ] Region growing\n"
   ]
  },
  {
   "cell_type": "markdown",
   "metadata": {},
   "source": [
    "### 1.1 Brain image visualization"
   ]
  },
  {
   "cell_type": "code",
   "execution_count": null,
   "metadata": {},
   "outputs": [],
   "source": [
    "import skimage.io\n",
    "import matplotlib.pyplot as plt\n",
    "import numpy as np\n",
    "%matplotlib inline\n",
    "\n",
    "# Load images\n",
    "path_to_image = os.path.join(data_base_path, data_folder, \"mucinous_adeno.jpg\")\n",
    "path_to_gt = os.path.join(data_base_path, data_folder, \"mucinous_adeno_gt.jpg\")\n",
    "adeno_img = skimage.io.imread(path_to_image)\n",
    "adeno_gt = skimage.io.imread(path_to_gt) > 128\n",
    "\n",
    "# Get size of the image in px\n",
    "im_h, im_w, im_c = adeno_img.shape\n",
    "\n",
    "# Display MRI image\n",
    "fig, ax = plt.subplots(1, 2, figsize=(12, 6))\n",
    "\n",
    "# Plot image\n",
    "ax[0].imshow(adeno_img, interpolation='nearest')\n",
    "ax[0].set_title('H&E image'.format(im_h, im_w))\n",
    "ax[0].axis('off')\n",
    "\n",
    "# Plot image with overlay\n",
    "ax[1].imshow(adeno_img, interpolation='nearest')\n",
    "ax[1].imshow(adeno_gt, alpha=0.5, interpolation='nearest')\n",
    "ax[1].set_title('Annotation of mucinous area (yellow)')\n",
    "ax[1].axis('off')\n",
    "plt.suptitle(\"Mucinous adenocarcinoma\\n({} px, {} px)\".format(im_h, im_w))\n",
    "plt.show()"
   ]
  },
  {
   "cell_type": "markdown",
   "metadata": {},
   "source": [
    "---\n",
    "### 1.2 Thresholding (4pts)\n",
    "#### 1.2.1 RGB & Hue (1 pts)\n",
    "\n",
    "Display the histogram for each channel (R, G, and B) as well as the histogram for the H (hue) channel. Note that you can use [rgb2hsv](https://scikit-image.org/docs/stable/api/skimage.color.html#skimage.color.rgb2hsv) to convert an RGB image to an HSV image and then extract the hue."
   ]
  },
  {
   "cell_type": "code",
   "execution_count": null,
   "metadata": {},
   "outputs": [],
   "source": [
    "# to do\n",
    "import matplotlib.pyplot as plt\n",
    "import numpy as np\n",
    "\n",
    "# tuple to select colors of each channel line\n",
    "colors = (\"red\", \"green\", \"blue\")\n",
    "\n",
    "# create the histogram plot, with three lines, one for each color\n",
    "plt.figure()\n",
    "plt.xlim([0, 256])\n",
    "for channel_id, color in enumerate(colors):\n",
    "    histogram, bin_edges = np.histogram(\n",
    "        adeno_img[:, :, channel_id], bins=256, range=(0, 256)\n",
    "    )\n",
    "    plt.plot(bin_edges[0:-1], histogram, color=color, label=colors[channel_id])\n",
    "plt.legend()\n",
    "plt.title(\"Color Histogram\")\n",
    "plt.xlabel(\"Color value\")\n",
    "plt.ylabel(\"Pixel count\")\n",
    "\n",
    "#hue histogram\n",
    "\n",
    "from skimage import color\n",
    "adeno_hsv = color.rgb2hsv(adeno_img)\n",
    "adeno_hue= adeno_hsv[...,0]\n",
    "\n",
    "# pull out just the h channel\n",
    "plt.figure()\n",
    "lu=adeno_hsv[...,0].flatten()\n",
    "plt.hist(lu,256,color='tab:grey')\n",
    "plt.title(\"Hue\")\n",
    "plt.xlabel(\"Value\")\n",
    "plt.ylabel(\"Pixel count\")"
   ]
  },
  {
   "cell_type": "markdown",
   "metadata": {},
   "source": [
    "#### 1.2.2 Apply Thresholding (2 pts)\n",
    "\n",
    "For each histogram find the threshold(s) that work the best to isolate the mucinous area. Display the image after thresholding of each channel as well as the error between your prediction ($im$) and the annotations ($gt$) using the formula:\n",
    "\n",
    "$$error = 1 - \\left( \\frac{1}{IJ} \\sum_{i,j} im_{i,j} == gt_{i, j} \\right)$$\n",
    "\n",
    "Here, I and J are the dimension of the image."
   ]
  },
  {
   "cell_type": "code",
   "execution_count": null,
   "metadata": {},
   "outputs": [],
   "source": [
    "#calculate the error based on the formula above\n",
    "def calculate_error(mask,gt):\n",
    "    return 1- np.sum(mask==gt) /mask.size"
   ]
  },
  {
   "cell_type": "code",
   "execution_count": null,
   "metadata": {},
   "outputs": [],
   "source": [
    "best_thresholds= [] #vector to stock the value of threshold\n",
    "\n",
    "adeno_R = adeno_img[:,:,0]\n",
    "adeno_G = adeno_img[:,:,1]\n",
    "adeno_B = adeno_img[:,:,2]\n",
    "\n",
    "#if we let adeno hue we find a value of threshold around 0.3 wchich is not coherent with our graph above. When we try to reverse the image, we find smth coherent\n",
    "\n",
    "for image,name in zip([adeno_R, adeno_G, adeno_B, 1-adeno_hue],[\"red\",\"green\",\"blue\",\"H\"]):\n",
    "# Initialize the variables\n",
    "    best_error = 1. #error of 1 --> perfect \n",
    "    best_th = 0. \n",
    "    if name == \"H\":\n",
    "        ths = np.linspace(0,1,256)\n",
    "    else: \n",
    "        ths = range(256)\n",
    "    \n",
    "    #find the threshold the makes the most difference\n",
    "    for th in ths:\n",
    "        image_mask = image>th #masking\n",
    "        \n",
    "        error = calculate_error(image_mask,adeno_gt)\n",
    "        if error < best_error: #actualise if we find smth better\n",
    "            best_th=th\n",
    "            best_error=error\n",
    "            \n",
    "# Save the best threshold\n",
    "    best_thresholds.append(best_th) #append --> add a value at the end of the vector\n",
    "    \n",
    "    \n",
    "    if name==\"H\" : print(F\"The threshold for the Hue: {best_th:0.4} with an error of {best_error : 0.3}\")\n",
    "    else : print(F\"The threshold for the {name} channel: {best_th} with an error of {best_error : 0.4}\")"
   ]
  },
  {
   "cell_type": "markdown",
   "metadata": {},
   "source": []
  },
  {
   "cell_type": "code",
   "execution_count": null,
   "metadata": {},
   "outputs": [],
   "source": [
    "fig,ax =plt.subplots(2,2) #print everything\n",
    "\n",
    "mask_treshold_R = adeno_R > best_thresholds[0]\n",
    "ax[0,0].axis(\"off\")\n",
    "ax[0,0].imshow(mask_treshold_R)\n",
    "error = calculate_error(mask_treshold_R,adeno_gt)\n",
    "ax[0,0].set_title(F\"Red channel, error of {error:0.3}\")\n",
    "\n",
    "mask_treshold_G = adeno_G > best_thresholds[1]\n",
    "ax[0,1].axis(\"off\")\n",
    "ax[0,1].imshow(mask_treshold_G)\n",
    "error = calculate_error(mask_treshold_G,adeno_gt)\n",
    "ax[0,1].set_title(F\"Green channel, error of {error:0.3}\")\n",
    "\n",
    "mask_treshold_B = adeno_B > best_thresholds[2]\n",
    "ax[1,0].axis(\"off\")\n",
    "ax[1,0].imshow(mask_treshold_B)\n",
    "error = calculate_error(mask_treshold_B,adeno_gt)\n",
    "ax[1,0].set_title(F\"Blue channel, error of {error:0.3}\")\n",
    "\n",
    "mask_treshold_hue = 1-adeno_hue > best_thresholds[3]\n",
    "ax[1,1].axis(\"off\")\n",
    "ax[1,1].imshow(mask_treshold_hue)\n",
    "error = calculate_error(mask_treshold_hue,adeno_gt)\n",
    "ax[1,1].set_title(F\"Hue channel, error of {error:0.3}\")"
   ]
  },
  {
   "cell_type": "markdown",
   "metadata": {},
   "source": [
    "#### 1.2.3 Best Thresholding (1 pts)\n",
    "\n",
    "Based on your previous findings, set the best threshold(s) and create the final mask as the variable `mask_thesholding`"
   ]
  },
  {
   "cell_type": "code",
   "execution_count": null,
   "metadata": {},
   "outputs": [],
   "source": [
    "# replacing with our own threshod (1- hue)\n",
    "mask_thesholding = mask_treshold_hue"
   ]
  },
  {
   "cell_type": "code",
   "execution_count": null,
   "metadata": {},
   "outputs": [],
   "source": [
    "# Display MRI image\n",
    "fig, ax = plt.subplots(1, 3, figsize=(12, 5))\n",
    "\n",
    "# Plot image\n",
    "ax[0].imshow(adeno_img, interpolation='nearest')\n",
    "ax[0].set_title('H&E image'.format(im_h, im_w))\n",
    "ax[0].axis('off')\n",
    "\n",
    "ax[1].imshow(adeno_img, interpolation='nearest')\n",
    "ax[1].imshow(adeno_gt, alpha=0.5, interpolation='nearest')\n",
    "ax[1].set_title('Annotation of mucinous area (yellow)')\n",
    "ax[1].axis('off')\n",
    "\n",
    "ax[2].imshow(mask_thesholding, interpolation='nearest')\n",
    "ax[2].imshow(mask_thesholding, alpha=0.5, interpolation='nearest')\n",
    "ax[2].set_title('Thresholding')\n",
    "ax[2].axis('off')\n",
    "\n",
    "plt.show()"
   ]
  },
  {
   "cell_type": "markdown",
   "metadata": {},
   "source": [
    "---\n",
    "\n",
    "### 1.3 Morphology (5pts)\n",
    "\n",
    "To proceed, use the best results of the previous model (namely `mask_thesholding`) as the starting point. In this exercise we will try to clean the mask using morphology.\n",
    "\n",
    "* A (2pts): Try the following operation [closing](https://scikit-image.org/docs/stable/api/skimage.morphology.html#skimage.morphology.closing), [opening](https://scikit-image.org/docs/stable/api/skimage.morphology.html#skimage.morphology.opening) with [disk](https://scikit-image.org/docs/stable/api/skimage.morphology.html#skimage.morphology.disk) size of: $1, 2, 5, 10$. Comment on the quality of the results.\n",
    "\n",
    "* B (2pts): Try the following operation [remove_small_holes](https://scikit-image.org/docs/stable/api/skimage.morphology.html#skimage.morphology.remove_small_holes), [remove_small_objects](https://scikit-image.org/docs/stable/api/skimage.morphology.html#skimage.morphology.remove_small_objects) with size of: $10, 50, 100, 500$. Comment on the quality of the results.\n",
    "\n",
    "* C (1pts): Based on your previous results, can you find a combination of the functions that improve your results? Plot the best result along with the error rate. Save the mask as the variable `mask_morph`"
   ]
  },
  {
   "cell_type": "code",
   "execution_count": null,
   "metadata": {},
   "outputs": [],
   "source": [
    "from skimage import morphology"
   ]
  },
  {
   "cell_type": "code",
   "execution_count": null,
   "metadata": {},
   "outputs": [],
   "source": [
    "# A-1 :Closing\n",
    "\n",
    "fig, ax = plt.subplots(1, 4, figsize=(20, 5))\n",
    "dsize = [1,2,5,10]\n",
    "\n",
    "fig.suptitle('Closing')\n",
    "\n",
    "\n",
    "for i in range(4):\n",
    "\n",
    "    disksize = skimage.morphology.disk(dsize[i])\n",
    "    close =skimage.morphology.closing(mask_thesholding, disksize)\n",
    "    \n",
    "    ax[i].axis(\"off\")\n",
    "    ax[i].imshow(close)\n",
    "\n",
    "    error = calculate_error(close,adeno_gt)\n",
    "    \n",
    "    ax[i].set_title(f\"Disk of size {dsize[i]}, error of {error:0.2}\")"
   ]
  },
  {
   "cell_type": "markdown",
   "metadata": {},
   "source": [
    "The muscinous expands, and the holes disappear."
   ]
  },
  {
   "cell_type": "code",
   "execution_count": null,
   "metadata": {},
   "outputs": [],
   "source": [
    "best_closing = 2"
   ]
  },
  {
   "cell_type": "code",
   "execution_count": null,
   "metadata": {},
   "outputs": [],
   "source": [
    "# A-2 :Opening\n",
    "\n",
    "\n",
    "\n",
    "fig, ax = plt.subplots(1, 4, figsize=(20, 5))\n",
    "dsize = [1,2,5,10]\n",
    "\n",
    "fig.suptitle('Opening')\n",
    "\n",
    "\n",
    "for i in range(4):\n",
    "\n",
    "    disksize = skimage.morphology.disk(dsize[i])\n",
    "    opened =skimage.morphology.opening(mask_thesholding, disksize)\n",
    "    \n",
    "    ax[i].axis(\"off\")\n",
    "    ax[i].imshow(opened)\n",
    "\n",
    "    error = calculate_error(opened,adeno_gt)\n",
    "    \n",
    "    ax[i].set_title(f\"Disk of size {dsize[i]}, error of {error:0.3}\")"
   ]
  },
  {
   "cell_type": "markdown",
   "metadata": {},
   "source": [
    "The musinous is reduce, the small islands disappear "
   ]
  },
  {
   "cell_type": "code",
   "execution_count": null,
   "metadata": {},
   "outputs": [],
   "source": [
    "best_opening=2"
   ]
  },
  {
   "cell_type": "code",
   "execution_count": null,
   "metadata": {},
   "outputs": [],
   "source": [
    "# B-1 : Remove small holes\n",
    "\n",
    "fig, ax = plt.subplots(1, 4, figsize=(20, 5))\n",
    "\n",
    "fig.suptitle('Remove small holes')\n",
    "\n",
    "dsize = [10, 50, 100, 500]\n",
    "\n",
    "for i in range(4):\n",
    "\n",
    "    remove_holes =skimage.morphology.remove_small_holes(mask_thesholding, dsize[i])\n",
    "\n",
    "     \n",
    "    ax[i].axis(\"off\")\n",
    "    ax[i].imshow(remove_holes)\n",
    "\n",
    "    error = calculate_error(remove_holes,adeno_gt)\n",
    "    \n",
    "    ax[i].set_title(f\"Removing holes of size {dsize[i]}, error of {error:0.2}\")\n",
    "    "
   ]
  },
  {
   "cell_type": "markdown",
   "metadata": {},
   "source": [
    "This removes the holes in the mucinous area. The larger diameter gives the best results"
   ]
  },
  {
   "cell_type": "code",
   "execution_count": null,
   "metadata": {},
   "outputs": [],
   "source": [
    "best_remove_hole = 500"
   ]
  },
  {
   "cell_type": "code",
   "execution_count": null,
   "metadata": {},
   "outputs": [],
   "source": [
    "# B-2 : Remove small object\n",
    "\n",
    "fig, ax = plt.subplots(1, 4, figsize=(20, 5))\n",
    "\n",
    "\n",
    "fig.suptitle('Remove small holes')\n",
    "\n",
    "dsize = [10, 50, 100, 500]\n",
    "\n",
    "for i in range(4):\n",
    "\n",
    "    remove_objects =skimage.morphology.remove_small_objects(mask_thesholding, dsize[i])\n",
    "\n",
    "     \n",
    "    ax[i].axis(\"off\")\n",
    "    ax[i].imshow(remove_objects)\n",
    "\n",
    "    error = calculate_error(remove_objects,adeno_gt)\n",
    "    \n",
    "    ax[i].set_title(f\"Removing holes of size {dsize[i]}, error of {error:0.2}\")"
   ]
  },
  {
   "cell_type": "markdown",
   "metadata": {},
   "source": [
    "This removes impurities from the background. The larger diameter gives the best results"
   ]
  },
  {
   "cell_type": "code",
   "execution_count": null,
   "metadata": {},
   "outputs": [],
   "source": [
    "best_remove_object = 500"
   ]
  },
  {
   "cell_type": "code",
   "execution_count": null,
   "metadata": {},
   "outputs": [],
   "source": [
    "# Do each function in sequence with the best results obtained as the parameter\n",
    "mask_morph = np.zeros_like(adeno_gt)\n",
    "\n",
    "disksize_close = skimage.morphology.disk(best_closing)\n",
    "disksize_open = skimage.morphology.disk(best_opening)\n",
    "\n",
    "#closing\n",
    "skimage.morphology.closing(mask_thesholding, disksize_close,out=mask_morph)\n",
    "#Opening\n",
    "skimage.morphology.opening(mask_morph, disksize_open,out=mask_morph)\n",
    "#Remove holes\n",
    "mask_morph= skimage.morphology.remove_small_holes(mask_morph, best_remove_hole)\n",
    "#Remove objects\n",
    "mask_morph= skimage.morphology.remove_small_objects(mask_morph, best_remove_object)\n",
    "\n",
    "fig, ax = plt.subplots(1, 3, figsize=(12, 5))\n",
    "\n",
    "ax[0].imshow(adeno_gt, interpolation='nearest')\n",
    "ax[0].set_title('Groundtruth')\n",
    "ax[0].axis('off')\n",
    "\n",
    "ax[1].imshow(mask_thesholding, interpolation='nearest')\n",
    "error = calculate_error(mask_thesholding,adeno_gt)\n",
    "ax[1].set_title(f\"Thresholding, error of {error:0.3}\")\n",
    "ax[1].axis('off')\n",
    "\n",
    "ax[2].imshow(mask_morph, interpolation='nearest')\n",
    "error = calculate_error(mask_morph,adeno_gt)\n",
    "ax[2].set_title(f\"Combinainon of Morphological operation \\n error of {error:0.3}\")\n",
    "ax[2].axis('off')\n",
    "\n"
   ]
  },
  {
   "cell_type": "markdown",
   "metadata": {},
   "source": [
    "---\n",
    "### 1.4 Region growing (5pts)\n",
    "\n",
    "In this exercise you will implement from scratch your own region growing algorithm. Choose one of the image channel (R/G/B/H) as the source image. You can use multiple seed point to achieve better results. Plot the best result along with the error rate. Save the mask as the variable `mask_region`."
   ]
  },
  {
   "cell_type": "code",
   "execution_count": null,
   "metadata": {},
   "outputs": [],
   "source": [
    "def region_growing(img, seed_points, threshold):\n",
    "    img = img.astype(float)\n",
    "    # Apply a gradient filter to enhance the edges --> we dont need it here\n",
    "    #img = filters.sobel(img)\n",
    "    \n",
    "    #initialise the variabel\n",
    "    total=0\n",
    "    summ=0\n",
    "    \n",
    "    # Create a binary mask for the segmented region\n",
    "    region_mask = np.zeros_like(img, dtype=bool)\n",
    "    \n",
    "    # Mark the seed points as part of the region and add them to the queue\n",
    "    for seed in seed_points:\n",
    "        region_mask[seed] = True\n",
    "    queue = seed_points.copy()\n",
    "    \n",
    "    # Iteratively add neighboring pixels to the region\n",
    "    while queue:\n",
    "        current_point = queue.pop(0)\n",
    "        \n",
    "        # Calculate the mean value of the already selected region\n",
    "        #mean_value = np.mean(img[region_mask]) --> takes too long\n",
    "        total= total+ img[current_point]\n",
    "        summ=summ+1\n",
    "        mean_value=total/summ\n",
    "        \n",
    "        # Define the neighbors : we add the surrounding pixels\n",
    "        neighbors = [(0, 1), (0, -1), (1, 0), (-1, 0), (1, 1), (-1, 1), (1, -1), (-1, -1)]\n",
    "        \n",
    "        # Check the neighbors of the current point\n",
    "        for neighbor in neighbors:\n",
    "            neighbor_point = (current_point[0] + neighbor[0], current_point[1] + neighbor[1])\n",
    "            \n",
    "            # Check if the neighbor is within the image bounds\n",
    "            if neighbor_point[0] < 0 or neighbor_point[0] >= img.shape[0] or neighbor_point[1] < 0 or neighbor_point[1] >= img.shape[1]:\n",
    "                continue\n",
    "            # Check if the neighbor is similar to the mean of the selected region --> more precise than if we compare one on one\n",
    "            if abs(img[neighbor_point] - mean_value) <= threshold :\n",
    "                if not region_mask[neighbor_point[0], neighbor_point[1]]:\n",
    "                    # Add the neighbor to the region and the queue\n",
    "                    region_mask[neighbor_point] = True\n",
    "                    queue.append(neighbor_point)\n",
    "    \n",
    "    return region_mask\n",
    "\n"
   ]
  },
  {
   "cell_type": "code",
   "execution_count": null,
   "metadata": {},
   "outputs": [],
   "source": [
    "#we need to find a starting point so we do it by trial and error\n",
    "import matplotlib.patches as patches\n",
    "\n",
    "adeno_G = adeno_img[:,:,1]\n",
    "\n",
    "# Create a figure and axis object\n",
    "fig, ax = plt.subplots()\n",
    "\n",
    "# Plot the image on the axis\n",
    "ax.imshow(adeno_G)\n",
    "\n",
    "\n",
    "x, y = 200, 200\n",
    "r = 15\n",
    "circle = patches.Circle((x, y), radius=r, linewidth=1, edgecolor='red', facecolor='none')\n",
    "ax.add_patch(circle)\n",
    "\n",
    "x_1, y_1 = 700,700\n",
    "r = 15 \n",
    "circle_1 = patches.Circle((x_1, y_1), radius=r, linewidth=1, edgecolor='red', facecolor='none')\n",
    "ax.add_patch(circle_1)\n",
    "\n",
    "x_2, y_2 = 1100,200\n",
    "r = 15 \n",
    "circle_1 = patches.Circle((x_2, y_2), radius=r, linewidth=1, edgecolor='red', facecolor='none')\n",
    "ax.add_patch(circle_1)\n",
    "# Show the plot\n",
    "\n",
    "x_3, y_3 = 650,420\n",
    "r = 15 \n",
    "circle_1 = patches.Circle((x_3, y_3), radius=r, linewidth=1, edgecolor='red', facecolor='none')\n",
    "ax.add_patch(circle_1)\n",
    "# Show the plot\n",
    "\n",
    "x_4, y_4 = 1100,850\n",
    "r = 15 \n",
    "circle_1 = patches.Circle((x_4, y_4), radius=r, linewidth=1, edgecolor='red', facecolor='none')\n",
    "ax.add_patch(circle_1)\n",
    "# Show the plot\n",
    "\n",
    "x_5, y_5 = 550,1100\n",
    "r = 15 \n",
    "circle_1 = patches.Circle((x_5, y_5), radius=r, linewidth=1, edgecolor='red', facecolor='none')\n",
    "ax.add_patch(circle_1)\n",
    "\n",
    "x_6, y_6 = 620,1050\n",
    "r = 15 \n",
    "circle_1 = patches.Circle((x_6, y_6), radius=r, linewidth=1, edgecolor='red', facecolor='none')\n",
    "ax.add_patch(circle_1)\n",
    "\n",
    "# Show the plot\n",
    "plt.show()\n",
    "\n",
    "#test if the desired point verify the condition of threshold : \n",
    "\n",
    "seed = [(y,x),(y_1,x_1),(y_2,x_2),(y_3,x_3),(y_4,x_4),(y_5,x_5)]\n",
    "\n",
    "for i in range (0, len(seed)):\n",
    "    print(F\"Verification for the circle {i+1}\")\n",
    "    print(\"Check if the seed is True in the ground truth :\")\n",
    "    print(adeno_gt[seed[i]])\n",
    "    print(\"Check hue value of the seed :\")\n",
    "    print(adeno_G[seed[i]]>best_thresholds[1])\n"
   ]
  },
  {
   "cell_type": "code",
   "execution_count": null,
   "metadata": {},
   "outputs": [],
   "source": [
    "print(\"Now we can call the function with the seed point\")\n",
    "mask_region = np.zeros_like(adeno_gt)\n",
    "mask_region = region_growing(adeno_G, seed, 76)\n",
    "\n",
    "#plot the image side by side\n",
    "fig,axs=plt.subplots(1,2,figsize=(12,6))\n",
    "axs[0].imshow(adeno_gt)\n",
    "axs[1].imshow(mask_region)"
   ]
  },
  {
   "cell_type": "markdown",
   "metadata": {},
   "source": [
    "---\n",
    "### 1.5 Method comparison (1pt)\n",
    "\n",
    "In this section we display the overall outputs. Please make sure that you create the variables `mask_thesholding`, `mask_morph`, and `mask_region` to properly display the output. Comment on the results and what you think would be the best approach."
   ]
  },
  {
   "cell_type": "markdown",
   "metadata": {},
   "source": [
    "Tresholding is a very good starting point for this kind of problem. The hue was a good reference because there was no big difference in the basic colours.\n",
    "We can see that with Morphological mask, we have succeeded in considerably reducing the error (especially thanks to the suppression of noises such as small holes and small objects). \n",
    "Region Grown ..."
   ]
  },
  {
   "cell_type": "code",
   "execution_count": null,
   "metadata": {},
   "outputs": [],
   "source": [
    "error_th = 1- (mask_thesholding == adeno_gt).mean()\n",
    "error_morph = 1- (mask_morph == adeno_gt).mean()\n",
    "error_region = 1- (mask_region == adeno_gt).mean()\n",
    "\n",
    "\n",
    "# Display MRI image\n",
    "fig, ax = plt.subplots(2, 3, figsize=(12, 8))\n",
    "\n",
    "# Plot image\n",
    "ax[0, 0].imshow(adeno_img, interpolation='nearest')\n",
    "ax[0, 0].set_title('H&E image'.format(im_h, im_w))\n",
    "\n",
    "# Plot image with overlay\n",
    "ax[0, 1].imshow(adeno_gt, interpolation='nearest')\n",
    "ax[0, 1].set_title('Annotation')\n",
    "\n",
    "# Plot estimation using thresholding\n",
    "ax[1, 0].imshow(mask_thesholding, interpolation='nearest')\n",
    "ax[1, 0].set_title('Thresholding\\nerror: {:.3f}'.format(error_th))\n",
    "\n",
    "# Plot estimation using Contour detection\n",
    "ax[1, 1].imshow(mask_morph, interpolation='nearest')\n",
    "ax[1, 1].set_title('Morphology\\nerror: {:.3f}'.format(error_morph))\n",
    "\n",
    "\n",
    "# Plot estimation using Region growing\n",
    "ax[1, 2].imshow(mask_region, interpolation='nearest')\n",
    "ax[1, 2].set_title('Region growing\\nerror: {:.3f}'.format(error_region))\n",
    "\n",
    "\n",
    "[a.axis('off') for a in ax.ravel()]\n",
    "\n",
    "\n",
    "plt.suptitle(\"Final results\")\n",
    "plt.show()"
   ]
  },
  {
   "attachments": {
    "image-2.png": {
     "image/png": "[encoded data removed]"
    },
    "image-3.png": {
     "image/png": "[encoded data removed]"
    }
   },
   "cell_type": "markdown",
   "metadata": {},
   "source": [
    "# ---\n",
    "## Part 2: Axon segmentations (10 points)\n",
    "\n",
    "#### Intro \n",
    "\n",
    "Axon segmentation is vital to neuroscience research as it enables the study of neurons' morphology and connectivity. We will conduct two exercises to evaluate the impact of your segmentation algorithms under different independent artefacts. Each exercise consists of a synthetic **Ground Truth (GT)** and two more images simulating a specific artifact.\n",
    "\n",
    "The **Ground Truth**  has tree main compartments. 1) The inner part of the axon. 2) The outer layer of the axon (called myelin) and the extracellular slace (the background of the image). \n",
    "\n",
    "The task consists into segmenting the three main compartments in the image to compute the inner-axon and outer-axon radii distribution.\n",
    "\n",
    "\n",
    "To compute the radii, we suggest the following approximation.\n",
    "$$\\hat{r}_{I}= \\sqrt{\\frac{A_{yellow}}{\\pi}}$$\n",
    "$$\\hat{r}_{O}= \\sqrt{\\frac{A_{yellow} + A_{blue}}{\\pi}}$$\n",
    "Where **A** is the corresponding area of the comparments. \n",
    "**Using this image as reference** ![image-3.png](attachment:image-3.png)\n",
    "\n",
    "#### Artifacts simulated:\n",
    "\n",
    "Excercise 1) Two images with different levels of SNR (signal to noise ratio). The images have rician noise.\n",
    "Exercise  2) Two images adquired using a fraction of the fourier space. Only Lowest frequency are used to reconstruct the image. (simulating fast aquisitions in MRI)\n",
    "\n",
    "Ensure your algorithm works on the GT before you go to the test cases with artifacts. Apply any preprocessing needed to the image. The preprocessing can be different for each type of image.\n",
    "\n",
    "### Tasks\n",
    "\n",
    "For each exercise we ask to:\n",
    "\n",
    "1) Segment the images with the following colors: blue the inner part of the axon, red the outer part of the axon (myelin) and white for the backround(example) ![image-2.png](attachment:image-2.png)\n",
    "\n",
    "2) Count the number of axons obtained in the sample, calculate the radii for each axons, and display a radii histogram for the each of the images(GT and test cases).\n",
    "\n",
    "In the exercises, assume that each pixel side is $(0.1 \\mu m)$, i.e. a pixel has an area of $(0.01 \\mu m^2 )$\n",
    "\n",
    "## Grading \n",
    "The answers does not have to be perfect, they just be a good approximation.\n",
    "\n",
    "1. Developing an algorithm that works for the two GT images. **(3 points)** \n",
    "2. Use preprosesing to prepare the images with SNR and the Low frequencies.  (**1 point** for SNR preprocesing , **1 point** for Low-frequency images preprocesing)\n",
    "3. Running the algorithm in the test images. **1/2 point** SNR, **1/2 point** Low freqs\n",
    "4. Computing and plotting radii distributions **(1 point)**\n",
    "5. Explaining and discussing your implementation. **(3 points )**\n",
    "    Try to be specific, not necessarily long. In the discussion include:\n",
    " 1. What worked? \n",
    " 2. What did not work?\n",
    " 3. Why do you think it does not work? \n",
    " 4. How could you improve your algorithms as future work?  Try to avoid general comments like \"using deep learning\" \n",
    " \n",
    "**Extra points: Real data example (3 points), the algorithm should display a _good enough_ segmentation.**"
   ]
  },
  {
   "cell_type": "markdown",
   "metadata": {},
   "source": [
    "### 2.1 SNR"
   ]
  },
  {
   "cell_type": "code",
   "execution_count": null,
   "metadata": {},
   "outputs": [],
   "source": [
    "data_base_path"
   ]
  },
  {
   "cell_type": "code",
   "execution_count": null,
   "metadata": {},
   "outputs": [],
   "source": [
    "#remplacer cv2 par commande d'en haut pour importer des images\n",
    "\n",
    "import cv2\n",
    "import matplotlib.pyplot as plt\n",
    "\n",
    "data_base_path = os.path.join(os.pardir, 'data')\n",
    "print(data_base_path)\n",
    "data_folder = 'lab-01-data'\n",
    "\n",
    "path_folder = os.path.join(data_base_path, data_folder) + '/' \n",
    "\n",
    "files = [\"GT_0.png\"  , \"test_0_0.png\" , \"test_0_1.png\"]\n",
    "gt_0 = cv2.imread(path_folder+ files[0])\n",
    "snr_10 = cv2.imread(path_folder+ files[1])\n",
    "snr_3 = cv2.imread(path_folder+ files[2])\n",
    "\n",
    "images = [gt_0 , snr_10, snr_3]\n",
    "im_names = [\"GT\" , \"SNR 10\" , \"SNR 3\"]\n",
    "fig, axes = plt.subplots(1, 3, figsize=(24, 12))\n",
    "for ax, im, nm in zip(axes.ravel(), images, im_names):\n",
    "    ax.imshow(im[0:512,0:512])\n",
    "    ax.axis('off')\n",
    "    ax.set_title(nm)\n",
    "plt.show()"
   ]
  },
  {
   "cell_type": "markdown",
   "metadata": {},
   "source": [
    "### 2.1.1 Preprocessing \n",
    "\n",
    " % add your images after preprocessing\n"
   ]
  },
  {
   "cell_type": "code",
   "execution_count": null,
   "metadata": {},
   "outputs": [],
   "source": []
  },
  {
   "cell_type": "markdown",
   "metadata": {},
   "source": [
    "\n",
    "### 2.1.2 Results Segmetations"
   ]
  },
  {
   "cell_type": "code",
   "execution_count": null,
   "metadata": {},
   "outputs": [],
   "source": [
    "images = [gt_0 , snr_10, snr_3]\n",
    "im_names = [\"GT\" , \"SNR 10\" , \"SNR 3\"]\n",
    "fig, axes = plt.subplots(1, 3, figsize=(24, 24))\n",
    "for ax, im, nm in zip(axes.ravel(), images, im_names):\n",
    "    ax.imshow(255- im[0:512,0:512])\n",
    "    ax.axis('off')\n",
    "    ax.set_title(nm)\n",
    "plt.show()"
   ]
  },
  {
   "cell_type": "markdown",
   "metadata": {},
   "source": [
    "### 2.1.3 Radii histrograms "
   ]
  },
  {
   "cell_type": "code",
   "execution_count": null,
   "metadata": {},
   "outputs": [],
   "source": [
    "## results Radii distribution. proposal feel free to change it\n",
    "import numpy as np\n",
    "\n",
    "\n",
    "rads_outer = np.random.normal(0, 1, 200)\n",
    "rads_inner = np.random.normal(0, 1, 200)\n",
    "\n",
    "\n",
    "rads_gt = [ rads_inner ,rads_outer]\n",
    "rads_test0 = [ rads_inner ,rads_outer]  # your result\n",
    "rads_test1 = [ rads_inner ,rads_outer]  # your result\n",
    "\n",
    "all_rads= [rads_gt , rads_test0 , rads_test1] \n",
    "\n",
    "images = [gt_0 , snr_10, snr_3]\n",
    "im_names = [\"GT\" , \"SNR 10\" , \"SNR 3\"]\n",
    "fig, axes = plt.subplots(1, 3, figsize=(12, 4))\n",
    "for ax, rads, nm in zip(axes.ravel(), all_rads, im_names):\n",
    "    ax.hist(rads[0]  , color = \"red\" , label = \"inner\" ,alpha= 0.5)\n",
    "    ax.hist(rads[1]  , color = \"blue\" , label = \"outer\" ,alpha= 0.5)\n",
    "    ax.legend()\n",
    "    ax.set_title(nm)\n",
    "plt.show()\n"
   ]
  },
  {
   "cell_type": "markdown",
   "metadata": {},
   "source": [
    "### 2.2 Low frequencies"
   ]
  },
  {
   "cell_type": "code",
   "execution_count": null,
   "metadata": {},
   "outputs": [],
   "source": [
    "\n",
    "files = [\"GT_3.png\"  , \"test_3_0.png\" , \"test_3_1.png\"]\n",
    "path = \"data/\"\n",
    "gt_3 = cv2.imread(path_folder+ files[0])\n",
    "lowfreq0 = cv2.imread(path_folder+ files[1])\n",
    "lowfreq1 = cv2.imread(path_folder+ files[2])\n",
    "\n",
    "images = [gt_3 , lowfreq0, lowfreq1]\n",
    "im_names = [\"GT\" , \"Low \" , \"Lower\"]\n",
    "fig, axes = plt.subplots(1, 3, figsize=(24, 24))\n",
    "for ax, im, nm in zip(axes.ravel(), images, im_names):\n",
    "    ax.imshow(im[0:512,0:512])\n",
    "    ax.axis('off')\n",
    "    ax.set_title(nm)\n",
    "plt.show()"
   ]
  },
  {
   "cell_type": "markdown",
   "metadata": {},
   "source": [
    "### 2.2.1 Preprocessing\n",
    "\n",
    "### 2.2.2 Results Segmetations\n",
    "\n",
    "### 2.2.3 Radii histrograms\n"
   ]
  },
  {
   "cell_type": "markdown",
   "metadata": {},
   "source": [
    "### 2.5 Not mandatory exercise, Real data ( 3 points )\n",
    "\n",
    "The points are given just by having a good enough segmentation."
   ]
  },
  {
   "cell_type": "code",
   "execution_count": null,
   "metadata": {},
   "outputs": [],
   "source": [
    "# Add your implementation and discussion\n",
    "import cv2\n",
    "\n",
    "files = [\"extra_point.png\" ]\n",
    "real_data = cv2.imread(path_folder+ files[0])\n",
    "\n",
    "plt.imshow(real_data[:256, :256])"
   ]
  },
  {
   "cell_type": "code",
   "execution_count": null,
   "metadata": {},
   "outputs": [],
   "source": [
    "\n"
   ]
  },
  {
   "cell_type": "code",
   "execution_count": null,
   "metadata": {},
   "outputs": [],
   "source": []
  }
 ],
 "metadata": {
  "kernelspec": {
   "display_name": "Python 3 (ipykernel)",
   "language": "python",
   "name": "python3"
  },
  "language_info": {
   "codemirror_mode": {
    "name": "ipython",
    "version": 3
   },
   "file_extension": ".py",
   "mimetype": "text/x-python",
   "name": "python",
   "nbconvert_exporter": "python",
   "pygments_lexer": "ipython3",
   "version": "3.9.13"
  }
 },
 "nbformat": 4,
 "nbformat_minor": 4
}
